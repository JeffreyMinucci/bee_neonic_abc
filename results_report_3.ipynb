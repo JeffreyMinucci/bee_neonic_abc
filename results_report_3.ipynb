{
 "cells": [
  {
   "cell_type": "markdown",
   "metadata": {},
   "source": [
    "# Inferring neonic toxicity from feeding study data and the VarroaPop+Pesticide model\n",
    "\n",
    "#### 3/22/19 update"
   ]
  },
  {
   "cell_type": "markdown",
   "metadata": {},
   "source": [
    "I tried out different transition percentages in VarroaPop, and the best fit to the control data seemed to be *60% pupae to adult transition* and 100% for all others.\n",
    "\n",
    "I also added mean and sd of egg # as statistics that our model is fitting to. This should help directly infer Queen Strength.\n",
    "\n",
    "So far the fit to the field data looks much better, but we need more time for the analysis to run (maybe another week).\n",
    "\n",
    "##### Let's compare the old fits to the new fits."
   ]
  },
  {
   "cell_type": "markdown",
   "metadata": {},
   "source": [
    "## Old:"
   ]
  },
  {
   "cell_type": "markdown",
   "metadata": {},
   "source": [
    "#### Number of adults\n",
    "![alt text](figures/posterior_predictions/bee_population/run_12_20/Adults.png \"Fit to adult population\")"
   ]
  },
  {
   "cell_type": "markdown",
   "metadata": {},
   "source": [
    "#### Number of pupae\n",
    "![alt text](figures/posterior_predictions/bee_population/run_12_20/Pupae.png \"Fit to pupae population\")"
   ]
  },
  {
   "cell_type": "markdown",
   "metadata": {},
   "source": [
    "#### Number of larvae\n",
    "![alt text](figures/posterior_predictions/bee_population/run_12_20/Larvae.png \"Fit to larvae population\")"
   ]
  },
  {
   "cell_type": "markdown",
   "metadata": {},
   "source": [
    "#### Number of eggs\n",
    "![alt text](figures/posterior_predictions/bee_population/run_12_20/Eggs.png \"Fit to egg population\")"
   ]
  },
  {
   "cell_type": "markdown",
   "metadata": {},
   "source": [
    "***"
   ]
  },
  {
   "cell_type": "markdown",
   "metadata": {},
   "source": [
    "## New:"
   ]
  },
  {
   "cell_type": "markdown",
   "metadata": {},
   "source": [
    "#### Number of adults\n",
    "![alt text](figures/posterior_predictions/bee_population/Adults.png \"Fit to adult population\")"
   ]
  },
  {
   "cell_type": "markdown",
   "metadata": {},
   "source": [
    "#### Number of pupae\n",
    "![alt text](figures/posterior_predictions/bee_population/Pupae.png \"Fit to pupae population\")"
   ]
  },
  {
   "cell_type": "markdown",
   "metadata": {},
   "source": [
    "#### Number of larvae\n",
    "![alt text](figures/posterior_predictions/bee_population/Larvae.png \"Fit to larvae population\")"
   ]
  },
  {
   "cell_type": "markdown",
   "metadata": {},
   "source": [
    "#### Number of eggs\n",
    "![alt text](figures/posterior_predictions/bee_population/Eggs.png \"Fit to egg population\")"
   ]
  }
 ],
 "metadata": {
  "kernelspec": {
   "display_name": "Python [conda env:pyabc]",
   "language": "python",
   "name": "conda-env-pyabc-py"
  },
  "language_info": {
   "codemirror_mode": {
    "name": "ipython",
    "version": 3
   },
   "file_extension": ".py",
   "mimetype": "text/x-python",
   "name": "python",
   "nbconvert_exporter": "python",
   "pygments_lexer": "ipython3",
   "version": "3.6.6"
  }
 },
 "nbformat": 4,
 "nbformat_minor": 2
}
