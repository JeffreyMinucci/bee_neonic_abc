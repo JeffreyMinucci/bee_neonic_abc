{
 "cells": [
  {
   "cell_type": "markdown",
   "metadata": {},
   "source": [
    "# Inferring neonic toxicity from feeding study data and the VarroaPop+Pesticide model\n",
    "\n",
    "#### 3/6/19 update"
   ]
  },
  {
   "cell_type": "markdown",
   "metadata": {},
   "source": [
    "I've plotted the fit of our VarroaPop-based model of the feeding study to the actual study data.\n",
    "\n",
    "You will recall that our model uses a probability distribution of parameters that best fits the **adult** population mean and sd.\n",
    "\n",
    "So when looking at these, keep in mind that our model was fit using all of the adult data, but only the initial values of the larvae, pupae and eggs.\n",
    "\n",
    "#### Guide to the plots:\n",
    "* The blue line is the most probable model, aka the maximum a posteriori estimation\n",
    "* The dotten lines are the 95% prediction intervals, based on our inferred parameter distributions (posteriors)\n",
    "* The orange dots with bars are the observed feeding study means and standard deviations"
   ]
  },
  {
   "cell_type": "markdown",
   "metadata": {},
   "source": [
    "#### Number of adults\n",
    "![alt text](figures/posterior_predictions/bee_population/run_12_20/Adults.png \"Fit to adult population\")"
   ]
  },
  {
   "cell_type": "markdown",
   "metadata": {},
   "source": [
    "It seems that a large population increase at the start of the study is unavoidable in VarroaPop, especially when there is no pesticide mortality, as in the control. \n",
    "\n",
    "To understand why this is the case, we need to look at the pupae, larvae and egg data below."
   ]
  },
  {
   "cell_type": "markdown",
   "metadata": {},
   "source": [
    "#### Number of pupae\n",
    "![alt text](figures/posterior_predictions/bee_population/run_12_20/Pupae.png \"Fit to pupae population\")"
   ]
  },
  {
   "cell_type": "markdown",
   "metadata": {},
   "source": [
    "#### Number of larvae\n",
    "![alt text](figures/posterior_predictions/bee_population/run_12_20/Larvae.png \"Fit to larvae population\")"
   ]
  },
  {
   "cell_type": "markdown",
   "metadata": {},
   "source": [
    "#### Number of eggs\n",
    "![alt text](figures/posterior_predictions/bee_population/run_12_20/Eggs.png \"Fit to egg population\")"
   ]
  },
  {
   "cell_type": "markdown",
   "metadata": {},
   "source": [
    "For pupae and larvae, we see that the feeding study data show high numbers of pupae and larvae at the first measurement, and continuing until the last survey for the control and the two lowest exposure treatments.\n",
    "\n",
    "For the control, the sum of larvae and pupae is maintained at ~30,000 for most of the study, with adults staying under 20,000 for this entire time. \n",
    "\n",
    "I think that VarroaPop cannot replicate this population structure. If there are many more sub-adults than adults, and bees live just as long (or longer) as adults than as sub-adults, the population is forced to grow - unless there is pesticide (or Varroa) mortality. VarroaPop is able to bring the adult population #s back down to the observed values only by letting pupae and larvae numbers drop to well below the observed values (and back to what seems to be a 'typical' age structure of hives with stable colony size). \n",
    "\n",
    "In the feeding study report, the reviewers also note the weak performance of the control:\n",
    "\n",
    "*\"The control performance in this study offers some challenges relating to the interpretation of the\n",
    "results. The level of colony loss after overwintering in controls (65%), adds a great deal of\n",
    "uncertainty when considering the results of individual measurements. The fact that many of the\n",
    "hives in the lower treatment groups performed/trended similarly to the control hives for these\n",
    "measurements could be indicative of either a lack of treatment effects or potentially that the control\n",
    "hives were suboptimal to begin the study.\"*\n",
    "\n",
    "They also note that the control hives showed no spike in honey or pollen stores, and a sudden drop in all population measurements in October."
   ]
  },
  {
   "cell_type": "markdown",
   "metadata": {},
   "source": [
    "#### Possible topics of discussion"
   ]
  },
  {
   "cell_type": "markdown",
   "metadata": {},
   "source": [
    "* Any way to help VarroaPop fit these data?\n",
    "* What could've caused the strange population structure in the feeding study data? Where are all the sub-adult bees going?\n",
    "* Implications for the sensitivity analysis\n",
    "* Are our inferred toxicity parameters informative if we can't fit the control/low exposure treatments well? A case could be made that tox parameters are only relevant for explaining the difference between control and the highest exposure treatments, which the model *does* seem to do well"
   ]
  }
 ],
 "metadata": {
  "kernelspec": {
   "display_name": "Python [conda env:pyabc]",
   "language": "python",
   "name": "conda-env-pyabc-py"
  },
  "language_info": {
   "codemirror_mode": {
    "name": "ipython",
    "version": 3
   },
   "file_extension": ".py",
   "mimetype": "text/x-python",
   "name": "python",
   "nbconvert_exporter": "python",
   "pygments_lexer": "ipython3",
   "version": "3.6.6"
  }
 },
 "nbformat": 4,
 "nbformat_minor": 2
}
