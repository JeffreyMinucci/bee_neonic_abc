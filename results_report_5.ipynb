{
 "cells": [
  {
   "cell_type": "code",
   "execution_count": 30,
   "metadata": {},
   "outputs": [],
   "source": [
    "import numpy as np\n",
    "import pandas as pd\n",
    "import os\n",
    "import csv\n",
    "import matplotlib.pyplot as plt\n",
    "%matplotlib inline"
   ]
  },
  {
   "cell_type": "markdown",
   "metadata": {},
   "source": [
    "# Inferring neonic toxicity from feeding study data and the VarroaPop+Pesticide model\n",
    "\n",
    "#### 5/3/19 update\n",
    "\n",
    "For this update, I looked at our inferred model's predictions to determine the no-observed-adverse-effect concentration (NOAEC) and the lowest-observed-adverse-effect concentration (LOAEC) for each endpoint.\n",
    "\n",
    "We then compare our inferred NOAEC and LOAEC predictions to what was determined from the empirical data."
   ]
  },
  {
   "cell_type": "markdown",
   "metadata": {},
   "source": [
    "#### Defining our analysis and plotting functions first"
   ]
  },
  {
   "cell_type": "code",
   "execution_count": 31,
   "metadata": {},
   "outputs": [],
   "source": [
    "def convert_data_dict(data_dict):\n",
    "    \"\"\"\n",
    "    Convert the dictionary of study populations by trt and time\n",
    "    into a 3d array (treatment x time x response var). Also add\n",
    "    a mean for all individuals\n",
    "    \"\"\"\n",
    "    out = {}\n",
    "    for stat in [\"mean\", \"sd\"]:\n",
    "        out_stat = np.empty([6, 4, 5])\n",
    "        for h, h_str in enumerate([\"Adults\", \"Pupae\", \"Larvae\", \"Eggs\", \"All\"]): #add in \"All\" here once it's in field data\n",
    "            for i, i_str in enumerate([\"0\", \"10\", \"20\", \"40\", \"80\", \"160\"]):\n",
    "                for j, j_str in enumerate([\"4\", \"5\", \"6\", \"7\"]):\n",
    "                    if h_str == \"All\":\n",
    "                        if stat == \"sd\":\n",
    "                            continue\n",
    "                        else:\n",
    "                            key_a = i_str+\"_\"+j_str+\"_{}_{}\".format(\"Adults\", stat)\n",
    "                            key_p = i_str+\"_\"+j_str+\"_{}_{}\".format(\"Pupae\", stat)\n",
    "                            key_l = i_str+\"_\"+j_str+\"_{}_{}\".format(\"Larvae\", stat)\n",
    "                            key_e = i_str+\"_\"+j_str+\"_{}_{}\".format(\"Eggs\", stat)\n",
    "                            out_stat[i,j,h] = data_dict[key_a] + data_dict[key_p] + data_dict[key_l] + data_dict[key_e]\n",
    "                    else:\n",
    "                        key = i_str+\"_\"+j_str+\"_{}_{}\".format(h_str, stat)\n",
    "                        out_stat[i,j,h] = data_dict[key]\n",
    "        out[stat] = out_stat\n",
    "    return out"
   ]
  },
  {
   "cell_type": "code",
   "execution_count": 32,
   "metadata": {},
   "outputs": [],
   "source": [
    "# Read the full data set for plots/comparison with model output\n",
    "study_data_all_path = os.path.abspath('data/data_all.csv')\n",
    "reader = csv.reader(open(study_data_all_path, 'r'))\n",
    "study_data_all = {}\n",
    "for row in reader:\n",
    "   k, v = row\n",
    "   study_data_all[k] = float(v)\n",
    "\n",
    "predictions = np.load(\"data/predictions.npy\")\n",
    "field_data = convert_data_dict(study_data_all)\n"
   ]
  },
  {
   "cell_type": "code",
   "execution_count": 33,
   "metadata": {},
   "outputs": [],
   "source": [
    "def effect_period(response, df_in, field_data, pi_level=95):\n",
    "    df = df_in.copy()  # trt x days x sample x response\n",
    "    resp_index = [\"Adults\", \"Pupae\", \"Larvae\", \"Eggs\", \"All\"].index(response)\n",
    "    contrasts = np.subtract(df,df[0,:,:,:])\n",
    "    contrasts = np.delete(contrasts,0,0) #delete our control row\n",
    "    upper = np.percentile(contrasts, 100-(100-pi_level)/2, axis=2)\n",
    "    upper = upper[:,6:,:]# remove 6 days before trts started\n",
    "    effects = [None, None ,None, None, None]\n",
    "    for i, trt in enumerate([\"10\", \"20\", \"40\", \"80\", \"160\"]):\n",
    "        sig_diff = np.where(upper[i,:, resp_index] < 0,1,0)\n",
    "        percent_diff = sig_diff.sum() / len(sig_diff) * 100\n",
    "        effects[i] = (trt,  f'{percent_diff:.{1}f} %')\n",
    "    return effects"
   ]
  },
  {
   "cell_type": "markdown",
   "metadata": {},
   "source": [
    "#### Method\n",
    "To determine significant reductions in our endpoints, I calculated our models predicted difference between each concentration and the control. \n",
    "\n",
    "To make these we are, as usual, considering our model's parameters as probability distributions (which we previously inferred) and sampling many times from these distributions to arrive at a distribution of predictions. \n",
    "\n",
    "We can define a significant reduction by seeing where our upper 95% prediction inverval drops below 0. I've also quantified what % of time each treatment spends with a significant reduction in the endpoint. "
   ]
  },
  {
   "cell_type": "markdown",
   "metadata": {},
   "source": [
    "### Adults\n",
    "\n",
    "![alt text](figures/posterior_predictions/bee_population/run_3_11/3_11_2_g13/Adults_contrast_field.png \"Effect on adults\")"
   ]
  },
  {
   "cell_type": "code",
   "execution_count": 34,
   "metadata": {
    "scrolled": false
   },
   "outputs": [
    {
     "data": {
      "text/plain": [
       "[('10', '1.7 %'),\n",
       " ('20', '0.0 %'),\n",
       " ('40', '0.0 %'),\n",
       " ('80', '47.0 %'),\n",
       " ('160', '91.5 %')]"
      ]
     },
     "execution_count": 34,
     "metadata": {},
     "output_type": "execute_result"
    }
   ],
   "source": [
    "effect_period(\"Adults\", predictions, field_data, pi_level=95)"
   ]
  },
  {
   "cell_type": "markdown",
   "metadata": {},
   "source": [
    "#### Conclusions - Adults\n",
    "* We infer a NOEAC/NOEAC of 40 and 80 ppb, respectively\n",
    "* In the feeding study report, they found 20 and 40 ppb"
   ]
  },
  {
   "cell_type": "markdown",
   "metadata": {},
   "source": [
    "### Pupae\n",
    "\n",
    "![alt text](figures/posterior_predictions/bee_population/run_3_11/3_11_2_g13/Pupae_contrast_field.png \"Effect on pupae\")"
   ]
  },
  {
   "cell_type": "code",
   "execution_count": 35,
   "metadata": {
    "scrolled": true
   },
   "outputs": [
    {
     "data": {
      "text/plain": [
       "[('10', '0.0 %'),\n",
       " ('20', '0.0 %'),\n",
       " ('40', '0.0 %'),\n",
       " ('80', '47.0 %'),\n",
       " ('160', '88.9 %')]"
      ]
     },
     "execution_count": 35,
     "metadata": {},
     "output_type": "execute_result"
    }
   ],
   "source": [
    "effect_period(\"Pupae\", predictions, field_data, pi_level=95)"
   ]
  },
  {
   "cell_type": "markdown",
   "metadata": {},
   "source": [
    "#### Conclusions - Pupae\n",
    "* We infer a NOEAC/NOEAC of 40 and 80 ppb, respectively\n",
    "* In the feeding study report, they found 20 and 40 ppb"
   ]
  },
  {
   "cell_type": "markdown",
   "metadata": {},
   "source": [
    "### Larvae\n",
    "\n",
    "![alt text](figures/posterior_predictions/bee_population/run_3_11/3_11_2_g13/Larvae_contrast_field.png \"Effect on larvae\")"
   ]
  },
  {
   "cell_type": "code",
   "execution_count": 36,
   "metadata": {},
   "outputs": [
    {
     "data": {
      "text/plain": [
       "[('10', '0.0 %'),\n",
       " ('20', '0.0 %'),\n",
       " ('40', '0.0 %'),\n",
       " ('80', '46.2 %'),\n",
       " ('160', '87.2 %')]"
      ]
     },
     "execution_count": 36,
     "metadata": {},
     "output_type": "execute_result"
    }
   ],
   "source": [
    "effect_period(\"Larvae\", predictions, field_data, pi_level=95)"
   ]
  },
  {
   "cell_type": "markdown",
   "metadata": {},
   "source": [
    "#### Conclusions - Larvae\n",
    "* We infer a NOEAC/NOEAC of 40 and 80 ppb, respectively\n",
    "* In the feeding study report, they found 40 and 80 ppb"
   ]
  },
  {
   "cell_type": "markdown",
   "metadata": {},
   "source": [
    "### Eggs\n",
    "\n",
    "![alt text](figures/posterior_predictions/bee_population/run_3_11/3_11_2_g13/Eggs_contrast_field.png \"Effect on eggs\")"
   ]
  },
  {
   "cell_type": "code",
   "execution_count": 37,
   "metadata": {
    "scrolled": false
   },
   "outputs": [
    {
     "data": {
      "text/plain": [
       "[('10', '0.0 %'),\n",
       " ('20', '0.0 %'),\n",
       " ('40', '0.0 %'),\n",
       " ('80', '47.0 %'),\n",
       " ('160', '87.2 %')]"
      ]
     },
     "execution_count": 37,
     "metadata": {},
     "output_type": "execute_result"
    }
   ],
   "source": [
    "effect_period(\"Eggs\", predictions, field_data, pi_level=95)"
   ]
  },
  {
   "cell_type": "markdown",
   "metadata": {},
   "source": [
    "#### Conclusions - Eggs\n",
    "* We infer a NOEAC/NOEAC of 40 and 80 ppb, respectively\n",
    "* In the feeding study report, they found 40 and 80 ppb"
   ]
  },
  {
   "cell_type": "markdown",
   "metadata": {},
   "source": [
    "### All individuals\n",
    "\n",
    "![alt text](figures/posterior_predictions/bee_population/run_3_11/3_11_2_g13/All_contrast_field.png \"Effect on all individuals\")"
   ]
  },
  {
   "cell_type": "code",
   "execution_count": 38,
   "metadata": {},
   "outputs": [
    {
     "data": {
      "text/plain": [
       "[('10', '0.0 %'),\n",
       " ('20', '0.0 %'),\n",
       " ('40', '0.0 %'),\n",
       " ('80', '45.3 %'),\n",
       " ('160', '99.1 %')]"
      ]
     },
     "execution_count": 38,
     "metadata": {},
     "output_type": "execute_result"
    }
   ],
   "source": [
    "effect_period(\"All\", predictions, field_data, pi_level=95)"
   ]
  },
  {
   "cell_type": "markdown",
   "metadata": {},
   "source": [
    "#### Conclusions - All individuals\n",
    "* We infer a NOEAC/NOEAC of 40 and 80 ppb, respectively\n",
    "* In the feeding study report, they found 20 and 40 ppb"
   ]
  },
  {
   "cell_type": "markdown",
   "metadata": {},
   "source": [
    "### Overall conclusions\n",
    "\n",
    "Our model consistently predicts a NOAEC/LOAEC of 40/80 ppb clothianidin. \n",
    "\n",
    "Statistical tests on the empirical feeding study data found the same NOAEC/LOAEC for eggs and larave, but a lower NOAEC/LOAEC of 20/40 ppb for the adults, pupae, and all individual endpoints. \n",
    "\n",
    "The difference for some endpoints reflects how our inferred VarroaPop based model does not predict the same declines at 40 ppb that we see in the empirical data. This likely reflects tradeoffs in fitting a single model to all of these treatment levels and endpoints, and the inconsistently of the 40 ppb effect in the data. If toxicity increases in the model to produce effects at 40 ppb, it likely overpredicts effects at higher concentrations, and in larvae + egg endpoints for 40 ppb."
   ]
  },
  {
   "cell_type": "markdown",
   "metadata": {},
   "source": [
    "### To do:\n",
    "\n",
    "* I am currently working on running predictions at 50, 55, 60, 65 and 70 ppb concentrations, to see if we can predict a more exact NOAEC and LOAEC\n",
    "* We can estimate acute and chronic levels of concern from our inferred ld50 distribution and our LOAEC"
   ]
  }
 ],
 "metadata": {
  "kernelspec": {
   "display_name": "Python [conda env:pyabc]",
   "language": "python",
   "name": "conda-env-pyabc-py"
  },
  "language_info": {
   "codemirror_mode": {
    "name": "ipython",
    "version": 3
   },
   "file_extension": ".py",
   "mimetype": "text/x-python",
   "name": "python",
   "nbconvert_exporter": "python",
   "pygments_lexer": "ipython3",
   "version": "3.6.6"
  }
 },
 "nbformat": 4,
 "nbformat_minor": 2
}
