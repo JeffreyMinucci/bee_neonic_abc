{
 "cells": [
  {
   "cell_type": "code",
   "execution_count": 4,
   "metadata": {},
   "outputs": [],
   "source": [
    "from tools.DataSimulator import simulate\n",
    "import pandas as pd\n",
    "import numpy as np"
   ]
  },
  {
   "cell_type": "code",
   "execution_count": 2,
   "metadata": {},
   "outputs": [
    {
     "data": {
      "text/plain": [
       "285.50715110717164"
      ]
     },
     "execution_count": 2,
     "metadata": {},
     "output_type": "execute_result"
    }
   ],
   "source": [
    "np.std([8176, 7669, 8150], ddof=1)"
   ]
  },
  {
   "cell_type": "code",
   "execution_count": 5,
   "metadata": {},
   "outputs": [
    {
     "name": "stdout",
     "output_type": "stream",
     "text": [
      "ICQueenStrength_mean 5.0\n",
      "ICQueenStrength_sd 1\n",
      "ICForagerLifespan_mean 9\n",
      "ICForagerLifespan_sd 2\n",
      "AIAdultLD50 0.001\n",
      "AIAdultSlope 3\n",
      "AILarvaLD50 0.001\n",
      "AILarvaSlope 3\n"
     ]
    },
    {
     "data": {
      "text/plain": [
       "{'0_4_Adults_mean': 19918.291666666668,\n",
       " '0_4_Adults_sd': 3610.5144939789243,\n",
       " '0_4_Eggs_mean': 3422.2083333333335,\n",
       " '0_4_Eggs_sd': 723.1890713852183,\n",
       " '0_5_Adults_mean': 14008.083333333334,\n",
       " '0_5_Adults_sd': 3400.342731020771,\n",
       " '0_5_Eggs_mean': 3864.5,\n",
       " '0_5_Eggs_sd': 1120.9981576992966,\n",
       " '0_6_Adults_mean': 15941.666666666666,\n",
       " '0_6_Adults_sd': 4205.718722289271,\n",
       " '0_6_Eggs_mean': 2943.7916666666665,\n",
       " '0_6_Eggs_sd': 766.7449538636445,\n",
       " '0_7_Adults_mean': 11237.791666666666,\n",
       " '0_7_Adults_sd': 3212.1996930069,\n",
       " '0_7_Eggs_mean': 1587.375,\n",
       " '0_7_Eggs_sd': 514.924377098652,\n",
       " '10_4_Adults_mean': 19860.5,\n",
       " '10_4_Adults_sd': 2127.062015593767,\n",
       " '10_4_Eggs_mean': 1669.5,\n",
       " '10_4_Eggs_sd': 192.5255591060338,\n",
       " '10_5_Adults_mean': 5004.25,\n",
       " '10_5_Adults_sd': 1184.6075779077069,\n",
       " '10_5_Eggs_mean': 1535.0,\n",
       " '10_5_Eggs_sd': 926.9628804963993,\n",
       " '10_6_Adults_mean': 6845.833333333333,\n",
       " '10_6_Adults_sd': 2731.3244483993917,\n",
       " '10_6_Eggs_mean': 2003.8333333333333,\n",
       " '10_6_Eggs_sd': 560.2792864169429,\n",
       " '10_7_Adults_mean': 7553.5,\n",
       " '10_7_Adults_sd': 2540.4938496284535,\n",
       " '10_7_Eggs_mean': 1255.25,\n",
       " '10_7_Eggs_sd': 381.99979176576903,\n",
       " '20_4_Adults_mean': 16870.75,\n",
       " '20_4_Adults_sd': 1997.9835346031896,\n",
       " '20_4_Eggs_mean': 640.8333333333334,\n",
       " '20_4_Eggs_sd': 106.14555472500385,\n",
       " '20_5_Adults_mean': 1688.5,\n",
       " '20_5_Adults_sd': 293.7904324204894,\n",
       " '20_5_Eggs_mean': 1108.4166666666667,\n",
       " '20_5_Eggs_sd': 469.50582498726226,\n",
       " '20_6_Adults_mean': 4397.333333333333,\n",
       " '20_6_Adults_sd': 925.8201605587177,\n",
       " '20_6_Eggs_mean': 1190.0833333333333,\n",
       " '20_6_Eggs_sd': 265.10562503319767,\n",
       " '20_7_Adults_mean': 5103.916666666667,\n",
       " '20_7_Adults_sd': 1183.2787620792822,\n",
       " '20_7_Eggs_mean': 794.75,\n",
       " '20_7_Eggs_sd': 228.78696919345575,\n",
       " '40_4_Adults_mean': 14526.916666666666,\n",
       " '40_4_Adults_sd': 2711.929653764953,\n",
       " '40_4_Eggs_mean': 178.5,\n",
       " '40_4_Eggs_sd': 64.77583724591362,\n",
       " '40_5_Adults_mean': 273.0833333333333,\n",
       " '40_5_Adults_sd': 84.91113893448559,\n",
       " '40_5_Eggs_mean': 985.3333333333334,\n",
       " '40_5_Eggs_sd': 393.76188774743576,\n",
       " '40_6_Adults_mean': 1933.25,\n",
       " '40_6_Adults_sd': 860.435949229966,\n",
       " '40_6_Eggs_mean': 470.75,\n",
       " '40_6_Eggs_sd': 169.30506355527157,\n",
       " '40_7_Adults_mean': 2584.6666666666665,\n",
       " '40_7_Adults_sd': 1046.0803318130309,\n",
       " '40_7_Eggs_mean': 177.08333333333334,\n",
       " '40_7_Eggs_sd': 121.5127814701238,\n",
       " '80_4_Adults_mean': 19200.416666666668,\n",
       " '80_4_Adults_sd': 2013.051751957859,\n",
       " '80_4_Eggs_mean': 39.166666666666664,\n",
       " '80_4_Eggs_sd': 14.726805080491419,\n",
       " '80_5_Adults_mean': 26.333333333333332,\n",
       " '80_5_Adults_sd': 8.967956424082493,\n",
       " '80_5_Eggs_mean': 807.8333333333334,\n",
       " '80_5_Eggs_sd': 598.0974127610946,\n",
       " '80_6_Adults_mean': 1442.8333333333333,\n",
       " '80_6_Adults_sd': 1147.1613053995766,\n",
       " '80_6_Eggs_mean': 352.3333333333333,\n",
       " '80_6_Eggs_sd': 145.35494696108765,\n",
       " '80_7_Adults_mean': 1863.8333333333333,\n",
       " '80_7_Adults_sd': 1058.411917865057,\n",
       " '80_7_Eggs_mean': 24.166666666666668,\n",
       " '80_7_Eggs_sd': 49.70061886085037,\n",
       " '160_4_Adults_mean': 16155.333333333334,\n",
       " '160_4_Adults_sd': 2771.5685199190116,\n",
       " '160_4_Eggs_mean': 1.1666666666666667,\n",
       " '160_4_Eggs_sd': 4.041451884327381,\n",
       " '160_5_Adults_mean': 1749.5833333333333,\n",
       " '160_5_Adults_sd': 883.8679928518052,\n",
       " '160_5_Eggs_mean': 174.25,\n",
       " '160_5_Eggs_sd': 453.5360314442303,\n",
       " '160_6_Adults_mean': 9.083333333333334,\n",
       " '160_6_Adults_sd': 26.4693934172808,\n",
       " '160_6_Eggs_mean': 0.25,\n",
       " '160_6_Eggs_sd': 0.8660254037844386,\n",
       " '160_7_Adults_mean': 15.916666666666666,\n",
       " '160_7_Adults_sd': 55.13695070760927,\n",
       " '160_7_Eggs_mean': 0.0,\n",
       " '160_7_Eggs_sd': 0.0}"
      ]
     },
     "execution_count": 5,
     "metadata": {},
     "output_type": "execute_result"
    }
   ],
   "source": [
    "parameters = {'ICQueenStrength_mean': 5.0, 'ICQueenStrength_sd': 1, 'ICForagerLifespan_mean': 9, \n",
    "              'ICForagerLifespan_sd': 2, 'AIAdultLD50': 0.001, 'AIAdultSlope': 3, 'AILarvaLD50': 0.001,\n",
    "             'AILarvaSlope': 3}\n",
    "parameters\n",
    "for name, value in parameters.items():\n",
    "    print(name, value)\n",
    "simulate(pars = parameters, save = True)"
   ]
  },
  {
   "cell_type": "code",
   "execution_count": null,
   "metadata": {},
   "outputs": [],
   "source": []
  }
 ],
 "metadata": {
  "kernelspec": {
   "display_name": "Python3 (pyabc)",
   "language": "python",
   "name": "pyabc"
  },
  "language_info": {
   "codemirror_mode": {
    "name": "ipython",
    "version": 3
   },
   "file_extension": ".py",
   "mimetype": "text/x-python",
   "name": "python",
   "nbconvert_exporter": "python",
   "pygments_lexer": "ipython3",
   "version": "3.6.6"
  }
 },
 "nbformat": 4,
 "nbformat_minor": 2
}
