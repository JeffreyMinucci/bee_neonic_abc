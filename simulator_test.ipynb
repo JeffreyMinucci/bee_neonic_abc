{
 "cells": [
  {
   "cell_type": "code",
   "execution_count": 1,
   "metadata": {},
   "outputs": [],
   "source": [
    "from tools.DataSimulator import simulate\n",
    "import pandas as pd\n",
    "import numpy as np"
   ]
  },
  {
   "cell_type": "code",
   "execution_count": 2,
   "metadata": {},
   "outputs": [
    {
     "data": {
      "text/plain": [
       "285.50715110717164"
      ]
     },
     "execution_count": 2,
     "metadata": {},
     "output_type": "execute_result"
    }
   ],
   "source": [
    "np.std([8176, 7669, 8150], ddof=1)"
   ]
  },
  {
   "cell_type": "code",
   "execution_count": 3,
   "metadata": {},
   "outputs": [
    {
     "name": "stdout",
     "output_type": "stream",
     "text": [
      "ICQueenStrength_mean 2.5\n",
      "ICQueenStrength_sd 1\n",
      "ICForagerLifespan_mean 9\n",
      "ICForagerLifespan_sd 2\n",
      "AIAdultLD50 -0.3\n",
      "AIAdultSlope 3\n",
      "AILarvaLD50 -0.3\n",
      "AILarvaSlope 3\n"
     ]
    },
    {
     "name": "stderr",
     "output_type": "stream",
     "text": [
      "D:\\git_files\\bee_neonic_abc\\tools\\DataSimulator.py:127: FutureWarning: from_items is deprecated. Please use DataFrame.from_dict(dict(items), ...) instead. DataFrame.from_dict(OrderedDict(items)) may be used to preserve the key order.\n",
      "  response_df = pd.DataFrame.from_items(zip(col_names,responses))\n"
     ]
    },
    {
     "data": {
      "text/plain": [
       "{'0_4_Adults_mean': 39880.333333333336,\n",
       " '0_4_Adults_sd': 1986.2593821888754,\n",
       " '0_5_Adults_mean': 24169.0,\n",
       " '0_5_Adults_sd': 6655.584196747871,\n",
       " '0_6_Adults_mean': 32175.0,\n",
       " '0_6_Adults_sd': 12043.890276816706,\n",
       " '0_7_Adults_mean': 23840.333333333332,\n",
       " '0_7_Adults_sd': 10376.015629003907,\n",
       " '10_4_Adults_mean': 40946.666666666664,\n",
       " '10_4_Adults_sd': 2155.2202516989614,\n",
       " '10_5_Adults_mean': 17560.333333333332,\n",
       " '10_5_Adults_sd': 7276.441598290563,\n",
       " '10_6_Adults_mean': 28008.333333333332,\n",
       " '10_6_Adults_sd': 7893.916032827644,\n",
       " '10_7_Adults_mean': 21270.333333333332,\n",
       " '10_7_Adults_sd': 6366.956049269803,\n",
       " '20_4_Adults_mean': 41262.0,\n",
       " '20_4_Adults_sd': 10116.66550796259,\n",
       " '20_5_Adults_mean': 26392.0,\n",
       " '20_5_Adults_sd': 9116.186264003167,\n",
       " '20_6_Adults_mean': 34661.666666666664,\n",
       " '20_6_Adults_sd': 15088.260911494517,\n",
       " '20_7_Adults_mean': 26903.0,\n",
       " '20_7_Adults_sd': 11520.975349335662,\n",
       " '40_4_Adults_mean': 40214.333333333336,\n",
       " '40_4_Adults_sd': 4565.615986187771,\n",
       " '40_5_Adults_mean': 21823.666666666668,\n",
       " '40_5_Adults_sd': 3097.651099354692,\n",
       " '40_6_Adults_mean': 29660.0,\n",
       " '40_6_Adults_sd': 5641.136055795853,\n",
       " '40_7_Adults_mean': 22292.0,\n",
       " '40_7_Adults_sd': 5998.25382924064,\n",
       " '80_4_Adults_mean': 42719.666666666664,\n",
       " '80_4_Adults_sd': 3742.914149874845,\n",
       " '80_5_Adults_mean': 22603.333333333332,\n",
       " '80_5_Adults_sd': 5495.594720622449,\n",
       " '80_6_Adults_mean': 29000.333333333332,\n",
       " '80_6_Adults_sd': 9798.861175327127,\n",
       " '80_7_Adults_mean': 20316.666666666668,\n",
       " '80_7_Adults_sd': 8225.349374545334,\n",
       " '160_4_Adults_mean': 40670.666666666664,\n",
       " '160_4_Adults_sd': 6994.709238655551,\n",
       " '160_5_Adults_mean': 18670.0,\n",
       " '160_5_Adults_sd': 5126.229413516332,\n",
       " '160_6_Adults_mean': 24648.0,\n",
       " '160_6_Adults_sd': 8402.361334767746,\n",
       " '160_7_Adults_mean': 16577.666666666668,\n",
       " '160_7_Adults_sd': 6525.88456328591}"
      ]
     },
     "execution_count": 3,
     "metadata": {},
     "output_type": "execute_result"
    }
   ],
   "source": [
    "parameters = {'ICQueenStrength_mean': 2.5, 'ICQueenStrength_sd': 1, 'ICForagerLifespan_mean': 9, \n",
    "              'ICForagerLifespan_sd': 2, 'AIAdultLD50': -.3, 'AIAdultSlope': 3, 'AILarvaLD50': -.3,\n",
    "             'AILarvaSlope': 3} #note: LD50 are in log10\n",
    "parameters\n",
    "for name, value in parameters.items():\n",
    "    print(name, value)\n",
    "simulate(pars = parameters, save = True)"
   ]
  },
  {
   "cell_type": "code",
   "execution_count": null,
   "metadata": {
    "collapsed": true
   },
   "outputs": [],
   "source": []
  }
 ],
 "metadata": {
  "kernelspec": {
   "display_name": "Python3 (pyabc)",
   "language": "python",
   "name": "pyabc"
  },
  "language_info": {
   "codemirror_mode": {
    "name": "ipython",
    "version": 3
   },
   "file_extension": ".py",
   "mimetype": "text/x-python",
   "name": "python",
   "nbconvert_exporter": "python",
   "pygments_lexer": "ipython3",
   "version": "3.6.6"
  }
 },
 "nbformat": 4,
 "nbformat_minor": 2
}
