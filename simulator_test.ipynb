{
 "cells": [
  {
   "cell_type": "code",
   "execution_count": 1,
   "metadata": {},
   "outputs": [],
   "source": [
    "from tools.DataSimulator import simulate\n",
    "import pandas as pd\n",
    "import numpy as np"
   ]
  },
  {
   "cell_type": "code",
   "execution_count": 2,
   "metadata": {},
   "outputs": [
    {
     "data": {
      "text/plain": [
       "285.50715110717164"
      ]
     },
     "execution_count": 2,
     "metadata": {},
     "output_type": "execute_result"
    }
   ],
   "source": [
    "np.std([8176, 7669, 8150], ddof=1)"
   ]
  },
  {
   "cell_type": "code",
   "execution_count": 3,
   "metadata": {},
   "outputs": [
    {
     "name": "stdout",
     "output_type": "stream",
     "text": [
      "SimStart 06/20/2014\n",
      "SimEnd 10/22/2014\n",
      "ICQueenStrength_mean 2.5\n",
      "ICQueenStrength_sd 1\n",
      "ICForagerLifespan_mean 9\n",
      "ICForagerLifespan_sd 2\n",
      "AIAdultLD50 0.001\n",
      "AIAdultSlope 3\n",
      "AILarvaLD50 0.001\n",
      "AILarvaSlope 3\n"
     ]
    },
    {
     "name": "stderr",
     "output_type": "stream",
     "text": [
      "D:\\git_files\\bee_neonic_abc\\tools\\DataSimulator.py:117: FutureWarning: from_items is deprecated. Please use DataFrame.from_dict(dict(items), ...) instead. DataFrame.from_dict(OrderedDict(items)) may be used to preserve the key order.\n",
      "  response_df = pd.DataFrame.from_items(zip(col_names,responses))\n"
     ]
    },
    {
     "data": {
      "text/plain": [
       "{'0_4_Adults_mean': 41197.375,\n",
       " '0_4_Adults_sd': 6122.236397382478,\n",
       " '0_5_Adults_mean': 22612.208333333332,\n",
       " '0_5_Adults_sd': 5888.1254932512575,\n",
       " '0_6_Adults_mean': 29739.166666666668,\n",
       " '0_6_Adults_sd': 9266.691519099193,\n",
       " '0_7_Adults_mean': 21900.416666666668,\n",
       " '0_7_Adults_sd': 8036.186879233895,\n",
       " '10_4_Adults_mean': -42929755.25,\n",
       " '10_4_Adults_sd': 148848139.25361192,\n",
       " '10_5_Adults_mean': -24090914.416666668,\n",
       " '10_5_Adults_sd': 83502277.28855757,\n",
       " '10_6_Adults_mean': 17917868.416666668,\n",
       " '10_6_Adults_sd': 61991395.82178831,\n",
       " '10_7_Adults_mean': -43827025.75,\n",
       " '10_7_Adults_sd': 151884089.50607452,\n",
       " '20_4_Adults_mean': 35676.166666666664,\n",
       " '20_4_Adults_sd': 6162.958496066839,\n",
       " '20_5_Adults_mean': 18631.166666666668,\n",
       " '20_5_Adults_sd': 5802.9544643355175,\n",
       " '20_6_Adults_mean': 24637.0,\n",
       " '20_6_Adults_sd': 9471.21627017162,\n",
       " '20_7_Adults_mean': 18466.583333333332,\n",
       " '20_7_Adults_sd': 7487.686163517628,\n",
       " '40_4_Adults_mean': 37770.333333333336,\n",
       " '40_4_Adults_sd': 4837.0424159121585,\n",
       " '40_5_Adults_mean': 21309.5,\n",
       " '40_5_Adults_sd': 5499.504167732677,\n",
       " '40_6_Adults_mean': 30183.333333333332,\n",
       " '40_6_Adults_sd': 8585.089382002361,\n",
       " '40_7_Adults_mean': 23314.833333333332,\n",
       " '40_7_Adults_sd': 7545.182518827774,\n",
       " '80_4_Adults_mean': 41457.166666666664,\n",
       " '80_4_Adults_sd': 7601.370663880099,\n",
       " '80_5_Adults_mean': 22083.0,\n",
       " '80_5_Adults_sd': 8565.044223204837,\n",
       " '80_6_Adults_mean': 29242.416666666668,\n",
       " '80_6_Adults_sd': 12266.352302563548,\n",
       " '80_7_Adults_mean': 21723.916666666668,\n",
       " '80_7_Adults_sd': 10239.229458387732,\n",
       " '160_4_Adults_mean': 27795.0,\n",
       " '160_4_Adults_sd': 5451.673954767554,\n",
       " '160_5_Adults_mean': 15983.25,\n",
       " '160_5_Adults_sd': 5868.615852373307,\n",
       " '160_6_Adults_mean': 25576.25,\n",
       " '160_6_Adults_sd': 11434.143638681473,\n",
       " '160_7_Adults_mean': 19779.666666666668,\n",
       " '160_7_Adults_sd': 10507.878890997878}"
      ]
     },
     "execution_count": 3,
     "metadata": {},
     "output_type": "execute_result"
    }
   ],
   "source": [
    "parameters = {'SimStart':'06/20/2014', 'SimEnd': '10/22/2014',\n",
    "              'ICQueenStrength_mean': '2.5', 'ICQueenStrength_sd': '1', 'ICForagerLifespan_mean': '9', \n",
    "              'ICForagerLifespan_sd': '2', 'AIAdultLD50': '0.001', 'AIAdultSlope': '3', 'AILarvaLD50': '0.001',\n",
    "             'AILarvaSlope': '3'}\n",
    "parameters\n",
    "for name, value in parameters.items():\n",
    "    print(name, value)\n",
    "simulate(pars = parameters)"
   ]
  },
  {
   "cell_type": "code",
   "execution_count": null,
   "metadata": {
    "collapsed": true
   },
   "outputs": [],
   "source": []
  }
 ],
 "metadata": {
  "kernelspec": {
   "display_name": "Python3 (pyabc)",
   "language": "python",
   "name": "pyabc"
  },
  "language_info": {
   "codemirror_mode": {
    "name": "ipython",
    "version": 3
   },
   "file_extension": ".py",
   "mimetype": "text/x-python",
   "name": "python",
   "nbconvert_exporter": "python",
   "pygments_lexer": "ipython3",
   "version": "3.6.6"
  }
 },
 "nbformat": 4,
 "nbformat_minor": 2
}
